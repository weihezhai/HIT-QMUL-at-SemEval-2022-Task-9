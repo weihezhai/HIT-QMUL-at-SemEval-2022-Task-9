{
 "cells": [
  {
   "cell_type": "markdown",
   "id": "b21dc561",
   "metadata": {},
   "source": [
    "# 从原始的数据集提取出 \"食谱\"和问答对"
   ]
  },
  {
   "cell_type": "code",
   "execution_count": 27,
   "id": "9636f158",
   "metadata": {},
   "outputs": [],
   "source": [
    "import json\n",
    "\n",
    "with open(r\"E:\\RecipeQA\\data\\train\\crl_srl.csv\",'r',encoding='utf-8') as f:\n",
    "    all_data = f.readlines()\n",
    "dicts={}\n",
    "question=[]\n",
    "text=[]\n",
    "newdoc_id=''#防止报错\n",
    "for i in range(len(all_data)-1):\n",
    "    item=all_data[i]\n",
    "    if 'newdoc id' in item:\n",
    "        if i!=0:\n",
    "            dicts[newdoc_id]={}\n",
    "            dicts[newdoc_id]['question']=question\n",
    "            text =  \" \".join(text)\n",
    "            dicts[newdoc_id]['text']=text\n",
    "        #清空--\n",
    "        newdoc_id = item.split(\"=\")[1].strip(\"\\n\")\n",
    "        question=[]\n",
    "        text=[]\n",
    "        continue\n",
    "    item_next=all_data[i+1]\n",
    "    if 'question' in item and 'answer' in item_next:\n",
    "        qa = item.split(\"=\")[1].strip(\"\\n\")+\"    \"+ item_next.split(\"=\")[1].strip(\"\\n\")\n",
    "        question.append(qa)\n",
    "    if 'text =' in item:\n",
    "        text.append(item.split(\"=\")[1].strip(\"\\n\"))\n",
    "fw = open(\"text_data.json\", \"w\", encoding=\"utf-8\")\n",
    "json.dump(dicts, fw, ensure_ascii=False, indent=4)\n",
    "fw.close()"
   ]
  },
  {
   "cell_type": "markdown",
   "id": "ec7d9674",
   "metadata": {},
   "source": [
    "    \" f-QTSTCCSV\": {\n",
    "        \"question\": [\n",
    "            \" How do you cook the pasta in a large pot?     cook the pasta according to package instructions\",\n",
    "            \" How do you add the white wine to deglaze the pan?     add the white wine slowly\",\n",
    "            \" How many actions does it take to process the asparagus?     2\",\n",
    "            \" How many actions does it take to process the wine?     1\",\n",
    "            \" How many large pans are used?     1\",\n",
    "            \" How many times is the saute pan used?     7\",\n",
    "            \" How many times is the colander used?     1\",\n",
    "            \" Where was the pasta before it was added to the saute pan with asparagus?     large pot\",\n",
    "            \" Where do you add asparagus?     to the pan\",\n",
    "            \" Where do you add the pasta , pancetta and 1/4 cup parmesan cheese?     to the saute pan with asparagus\",\n",
    "            \" What should be served?     the pancetta and asparagus pasta\",\n",
    "            \" How do you saute pancetta in a large pan until crispy?     saute pancetta over medium - high heat\",\n",
    "            \" How do you remove pancetta?     remove pancetta with a slotted spoon\",\n",
    "            \" How do you cook the pasta according to package instructions?     cook the pasta in a large pot\",\n",
    "            \" Where do you saute pancetta over medium - high heat until crispy?     in a large pan\",\n",
    "            \" What'S in the white wine and asparagus?     the white wine\",\n",
    "            \" How did you get the pancetta and asparagus pasta?     by adding the pasta, pancetta, parmesan cheese and asparagus to the saute pan\",\n",
    "            \" What'S in the pancetta and asparagus pasta?     the pasta, pancetta, parmesan cheese and asparagus\",\n",
    "            \" Adding the white wine and sauting pancetta in a large pan over medium - high heat until crispy, which comes first?     the second event\",\n",
    "            \" Removing pancetta with a slotted spoon and adding the white wine, which comes first?     the first event\",\n",
    "            \" Sauting pancetta in a large pan over medium - high heat until crispy and sprinkling with the remaining parmesan cheese pasta, which comes first?     the first event\",\n",
    "            \" Sprinkling with the remaining parmesan cheese pasta and deglazing the pan, which comes first?     the second event\",\n",
    "            \" Sprinkling with the remaining parmesan cheese pasta and serving the pancetta and asparagus pasta, which comes first?     the first event\",\n",
    "            \" Why do you add the white wine slowly?     to deglaze the pan\",\n",
    "            \" Why do you reserve 1/4 cup of the pasta water?     for later ( if needed )\",\n",
    "            \" To what extent do you saute pancetta in a large pan over medium - high heat?     until crispy\",\n",
    "            \" What should be cut with the cookie cutter?     N/A\",\n",
    "            \" Where do you stir this mixture?     N/A\"\n",
    "        ],\n",
    "        \"text\": \" 250 g uncooked pasta of your choice  250 g pancetta, cut into small sticks  500 g fresh asparagus ends trimmed and cut into 2-inch pieces  20 ml dry white wine  1/2 cup grated Parmesan cheese  Saute pancetta in a large pan over medium-high heat, stirring occasionally, until crispy.  Remove pancetta with a slotted spoon and set aside.  Add asparagus to the pan and saute in the pancetta grease for about 5-6 minutes, stirring occasionally, until almost cooked.  Slowly add the white wine to deglaze the pan.  Continue cooking for 5 minutes or until the wine has reduced by about half.  Cook the pasta in a large pot according to package instructions.  Drain, but reserve 1/4 cup of the pasta water for later (if needed).  Add the pasta, pancetta and 1/4 cup Parmesan cheese to the saute pan with asparagus, and toss until combined.  Sprinkle pasta with the remaining Parmesan cheese and serve immediately.\"\n",
    "    },"
   ]
  }
 ],
 "metadata": {
  "kernelspec": {
   "display_name": "torch",
   "language": "python",
   "name": "torch"
  },
  "language_info": {
   "codemirror_mode": {
    "name": "ipython",
    "version": 3
   },
   "file_extension": ".py",
   "mimetype": "text/x-python",
   "name": "python",
   "nbconvert_exporter": "python",
   "pygments_lexer": "ipython3",
   "version": "3.7.11"
  }
 },
 "nbformat": 4,
 "nbformat_minor": 5
}
