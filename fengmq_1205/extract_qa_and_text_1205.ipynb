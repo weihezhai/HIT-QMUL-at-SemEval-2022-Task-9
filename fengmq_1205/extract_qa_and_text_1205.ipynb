{
 "cells": [
  {
   "cell_type": "code",
   "execution_count": 2,
   "id": "da676e2e",
   "metadata": {},
   "outputs": [],
   "source": [
    "import json\n",
    "from tqdm import tqdm\n",
    "from collections import Counter"
   ]
  },
  {
   "cell_type": "code",
   "execution_count": 3,
   "id": "08b93892",
   "metadata": {},
   "outputs": [],
   "source": [
    "\n",
    "def extract1205():\n",
    "    '''\n",
    "    提取训练集当中的文本问答对\n",
    "    '''\n",
    "    with open(r\"E:\\RecipeQA\\data\\数据集\\r2vq_train_10_28_2021\\train\\crl_srl.csv\", 'r', encoding='utf-8') as f:\n",
    "        all_data = f.readlines()\n",
    "    all_data2=[] #存储所有信息\n",
    "    i=1\n",
    "    while i<(219125):\n",
    "        doc_id = all_data[i-1].split(\"=\")[1].strip(\"\\n\") #获取doc_id\n",
    "        list_2qa=[]   #2代表第二类问题，存储quest和answer\n",
    "        text_tags=[]  #存储食谱句子和标签\n",
    "        while 'newdoc id' not in  all_data[i]:\n",
    "            item = all_data[i]\n",
    "            item_next = all_data[i + 1]\n",
    "            if 'question' in item and 'answer' in item_next:\n",
    "                quest_idx = item.strip().split(\"=\")[0].split(\" \")[-2]\n",
    "    #             if quest_idx.startswith('2'):\n",
    "                if True:\n",
    "                    temp_qa={}\n",
    "                    quest = item.strip().split(\"=\")[1]\n",
    "                    answer = item_next.strip().split(\"=\")[-1]\n",
    "                    temp_qa['quest']=quest_idx+\"=\"+quest\n",
    "                    temp_qa['answer']=answer\n",
    "                    list_2qa.append(temp_qa)\n",
    "                i+=1\n",
    "            elif 'text =' in item:\n",
    "                item_pre = all_data[i - 1]\n",
    "                if 'ingredients' in item_pre:\n",
    "                    i+=1\n",
    "                    pass\n",
    "                else:\n",
    "                    i+=1\n",
    "                    temp_text_tags={}\n",
    "                    texts,hiddens=\"\",[]\n",
    "                    while all_data[i] and \"sent_id\" not in all_data[i] and 'newdoc id' not in all_data[i]: #在数据集的最后一行加了newdoc id\n",
    "                        if \"newpar id\" in all_data[i]:\n",
    "                            i+=1\n",
    "                            continue\n",
    "                        item=all_data[i]\n",
    "\n",
    "                        tags = item.strip().split(\"\\t\")\n",
    "                        if len(tags)!=1:\n",
    "                            word = tags[1]\n",
    "                            texts+=(\" \"+word)\n",
    "                        i+=1\n",
    "                    temp_text_tags[\"text\"]=texts\n",
    "                    text_tags.append(temp_text_tags)\n",
    "            else:\n",
    "                i+=1\n",
    "        i+=1\n",
    "\n",
    "        doc_dict={}\n",
    "        doc_dict['doc_id']=doc_id\n",
    "        doc_dict['list_2qa']=list_2qa\n",
    "        doc_dict['text_tags']=text_tags\n",
    "        all_data2.append(doc_dict)\n",
    "    fw = open(\"all_data.json\", \"w\", encoding=\"utf-8\")\n",
    "    json.dump(all_data2, fw, ensure_ascii=False, indent=4)\n",
    "    fw.close()"
   ]
  },
  {
   "cell_type": "code",
   "execution_count": 4,
   "id": "e08a184b",
   "metadata": {},
   "outputs": [
    {
     "name": "stderr",
     "output_type": "stream",
     "text": [
      "100%|█████████████████████████████████████████████████████████████████████████████| 800/800 [00:00<00:00, 32084.63it/s]\n"
     ]
    },
    {
     "name": "stdout",
     "output_type": "stream",
     "text": [
      "8235\n"
     ]
    }
   ],
   "source": [
    "def extarct_EM():\n",
    "    f = open(r\"E:\\RecipeQA\\data\\ITNLP_Semeval2022_Task6\\fengmq_1205\\all_data.json\", 'r', encoding='utf-8')\n",
    "    json_data = json.load(f)\n",
    "    f.close()\n",
    "    result=[]\n",
    "    for item in tqdm(json_data):\n",
    "        list_qa=item['list_2qa']\n",
    "        text_tags = item['text_tags']\n",
    "        text=\"\"\n",
    "        #合并生成最终的连续text\n",
    "        for tt in text_tags:\n",
    "            text+=tt['text'].lower()\n",
    "        text = text.strip()\n",
    "        #处理问答对\n",
    "        for qa in list_qa:\n",
    "            quest=qa['quest']\n",
    "            ans = qa['answer'].strip()\n",
    "            if not ans.isdigit() and ans in text:\n",
    "                temp_dict={}\n",
    "                temp_dict['qa']=qa\n",
    "                temp_dict['text']=text_tags\n",
    "                result.append(temp_dict)\n",
    "    fw = open(\"EM_all_data.json\", \"w\", encoding=\"utf-8\")\n",
    "    json.dump(result, fw, ensure_ascii=False, indent=4)\n",
    "    fw.close()\n",
    "    print(len(result))\n",
    "extarct_EM()"
   ]
  },
  {
   "cell_type": "code",
   "execution_count": 7,
   "id": "8b043466",
   "metadata": {},
   "outputs": [
    {
     "data": {
      "text/plain": [
       "[(1, 670),\n",
       " (2, 1629),\n",
       " (3, 140),\n",
       " (5, 801),\n",
       " (6, 201),\n",
       " (7, 824),\n",
       " (8, 1831),\n",
       " (9, 30),\n",
       " (10, 213),\n",
       " (11, 5),\n",
       " (12, 289),\n",
       " (13, 41),\n",
       " (14, 144),\n",
       " (15, 289),\n",
       " (16, 194),\n",
       " (17, 934)]"
      ]
     },
     "execution_count": 7,
     "metadata": {},
     "output_type": "execute_result"
    }
   ],
   "source": [
    "#统计精准匹配的分布\n",
    "f = open(r\"E:\\RecipeQA\\data\\ITNLP_Semeval2022_Task6\\fengmq_1205\\EM_all_data.json\", 'r', encoding='utf-8')\n",
    "json_data = json.load(f)\n",
    "f.close()\n",
    "result=[]\n",
    "for item in json_data:\n",
    "    q=item['qa']['quest']\n",
    "    idx = q.split(\"=\")[0].split(\"-\")[0]\n",
    "    result.append(int(idx))\n",
    "\n",
    "sorted(Counter(result).items(), key=lambda d: d[0], reverse=False)"
   ]
  },
  {
   "cell_type": "code",
   "execution_count": null,
   "id": "563d7409",
   "metadata": {},
   "outputs": [],
   "source": []
  }
 ],
 "metadata": {
  "kernelspec": {
   "display_name": "torch",
   "language": "python",
   "name": "torch"
  },
  "language_info": {
   "codemirror_mode": {
    "name": "ipython",
    "version": 3
   },
   "file_extension": ".py",
   "mimetype": "text/x-python",
   "name": "python",
   "nbconvert_exporter": "python",
   "pygments_lexer": "ipython3",
   "version": "3.7.11"
  }
 },
 "nbformat": 4,
 "nbformat_minor": 5
}
