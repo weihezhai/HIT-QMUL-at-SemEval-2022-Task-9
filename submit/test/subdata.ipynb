{
 "cells": [
  {
   "cell_type": "code",
   "execution_count": 1,
   "id": "fededa99",
   "metadata": {},
   "outputs": [
    {
     "data": {
      "text/plain": [
       "3442"
      ]
     },
     "execution_count": 1,
     "metadata": {},
     "output_type": "execute_result"
    }
   ],
   "source": [
    "import json\n",
    "import random\n",
    "import numpy as np\n",
    "with open(\"test_q.json\") as f:\n",
    "    ques=json.load(f)\n",
    "len(ques)"
   ]
  },
  {
   "cell_type": "markdown",
   "id": "394863f7",
   "metadata": {},
   "source": [
    "# startwith 4"
   ]
  },
  {
   "cell_type": "code",
   "execution_count": 2,
   "id": "aade5b7e",
   "metadata": {},
   "outputs": [
    {
     "name": "stdout",
     "output_type": "stream",
     "text": [
      "490\n"
     ]
    }
   ],
   "source": [
    "start4=[]\n",
    "for item in ques:\n",
    "    if item['q_id'].startswith(\"4-\"):\n",
    "        start4.append(item)\n",
    "print(len(start4))\n",
    "fw = open(r\"subdata/start4.json\", \"w\", encoding=\"utf-8\")\n",
    "json.dump(start4, fw, ensure_ascii=False, indent=4)\n",
    "fw.close()"
   ]
  },
  {
   "cell_type": "markdown",
   "id": "4c22768d",
   "metadata": {},
   "source": [
    "# startwith 2"
   ]
  },
  {
   "cell_type": "code",
   "execution_count": 3,
   "id": "7e5f1cea",
   "metadata": {},
   "outputs": [
    {
     "name": "stdout",
     "output_type": "stream",
     "text": [
      "454\n"
     ]
    }
   ],
   "source": [
    "start2=[]\n",
    "for item in ques:\n",
    "    if item['q_id'].startswith(\"2-\"):\n",
    "        start2.append(item)\n",
    "print(len(start2))\n",
    "fw = open(r\"subdata/start2.json\", \"w\", encoding=\"utf-8\")\n",
    "json.dump(start2, fw, ensure_ascii=False, indent=4)\n",
    "fw.close()"
   ]
  },
  {
   "cell_type": "markdown",
   "id": "4e2adc24",
   "metadata": {},
   "source": [
    "# startwith18"
   ]
  },
  {
   "cell_type": "code",
   "execution_count": 4,
   "id": "14fe6fac",
   "metadata": {},
   "outputs": [
    {
     "name": "stdout",
     "output_type": "stream",
     "text": [
      "352\n"
     ]
    }
   ],
   "source": [
    "start18=[]\n",
    "for item in ques:\n",
    "    if item['q_id'].startswith(\"18-\"):\n",
    "        start18.append(item)\n",
    "print(len(start18))\n",
    "fw = open(r\"subdata/start18.json\", \"w\", encoding=\"utf-8\")\n",
    "json.dump(start18, fw, ensure_ascii=False, indent=4)\n",
    "fw.close()"
   ]
  },
  {
   "cell_type": "markdown",
   "id": "25e9e3b7",
   "metadata": {},
   "source": [
    "# startwith 5 7 8 9 11 12 13 15 16   EM\n",
    "次数：81 90 226 8 1 38 7 36 20"
   ]
  },
  {
   "cell_type": "code",
   "execution_count": 5,
   "id": "108f1a5b",
   "metadata": {},
   "outputs": [
    {
     "name": "stdout",
     "output_type": "stream",
     "text": [
      "507\n"
     ]
    }
   ],
   "source": [
    "EM=[]\n",
    "for item in ques:\n",
    "    if item['q_id'].startswith(\"5-\") or item['q_id'].startswith(\"7-\") or item['q_id'].startswith(\"8-\") or item['q_id'].startswith(\"9-\") or item['q_id'].startswith(\"11-\") or item['q_id'].startswith(\"12-\") or item['q_id'].startswith(\"13-\") or item['q_id'].startswith(\"15-\") or item['q_id'].startswith(\"16-\"):\n",
    "        EM.append(item)\n",
    "print(len(EM))\n",
    "fw = open(r\"subdata/EM.json\", \"w\", encoding=\"utf-8\")\n",
    "json.dump(EM, fw, ensure_ascii=False, indent=4)\n",
    "fw.close()"
   ]
  },
  {
   "cell_type": "markdown",
   "id": "c78f696f",
   "metadata": {},
   "source": [
    "# startwith1 3 6 10 17 14\n",
    "430 322 78 144 213"
   ]
  },
  {
   "cell_type": "code",
   "execution_count": 6,
   "id": "c63185d1",
   "metadata": {},
   "outputs": [
    {
     "name": "stdout",
     "output_type": "stream",
     "text": [
      "1207\n"
     ]
    }
   ],
   "source": [
    "CD=[]\n",
    "for item in ques:\n",
    "    if item['q_id'].startswith(\"1-\") or item['q_id'].startswith(\"3-\") or item['q_id'].startswith(\"6-\") or item['q_id'].startswith(\"10-\") or item['q_id'].startswith(\"17-\") or item['q_id'].startswith(\"14-\"):\n",
    "        CD.append(item)\n",
    "print(len(CD))\n",
    "fw = open(r\"subdata/CD.json\", \"w\", encoding=\"utf-8\")\n",
    "json.dump(CD, fw, ensure_ascii=False, indent=4)\n",
    "fw.close()"
   ]
  },
  {
   "cell_type": "markdown",
   "id": "5b3909aa",
   "metadata": {},
   "source": [
    "# startwith 0"
   ]
  },
  {
   "cell_type": "code",
   "execution_count": 7,
   "id": "62b56897",
   "metadata": {},
   "outputs": [
    {
     "name": "stdout",
     "output_type": "stream",
     "text": [
      "432\n"
     ]
    }
   ],
   "source": [
    "start0=[]\n",
    "for item in ques:\n",
    "    if item['q_id'].startswith(\"0-\"):\n",
    "        start0.append(item)\n",
    "print(len(start0))\n",
    "fw = open(r\"subdata/start0.json\", \"w\", encoding=\"utf-8\")\n",
    "json.dump(start0, fw, ensure_ascii=False, indent=4)\n",
    "fw.close()"
   ]
  },
  {
   "cell_type": "code",
   "execution_count": null,
   "id": "41dd202f",
   "metadata": {},
   "outputs": [],
   "source": []
  }
 ],
 "metadata": {
  "kernelspec": {
   "display_name": "torch",
   "language": "python",
   "name": "torch"
  },
  "language_info": {
   "codemirror_mode": {
    "name": "ipython",
    "version": 3
   },
   "file_extension": ".py",
   "mimetype": "text/x-python",
   "name": "python",
   "nbconvert_exporter": "python",
   "pygments_lexer": "ipython3",
   "version": "3.7.11"
  }
 },
 "nbformat": 4,
 "nbformat_minor": 5
}
